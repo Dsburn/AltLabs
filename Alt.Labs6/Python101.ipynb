{
  "nbformat": 4,
  "nbformat_minor": 0,
  "metadata": {
    "colab": {
      "name": "Python101.ipynb",
      "provenance": []
    },
    "kernelspec": {
      "name": "python3",
      "display_name": "Python 3"
    }
  },
  "cells": [
    {
      "cell_type": "code",
      "metadata": {
        "id": "JE7R_EKa32MJ",
        "colab_type": "code",
        "outputId": "3d6e725b-f544-4fca-92f9-a6a6c135b817",
        "colab": {
          "base_uri": "https://localhost:8080/",
          "height": 34
        }
      },
      "source": [
        "# This is a comment. This part of the program will not get executed by python. Can also hold shift + enter\n",
        "print (\"hello world!\")"
      ],
      "execution_count": 0,
      "outputs": [
        {
          "output_type": "stream",
          "text": [
            "hello world!\n"
          ],
          "name": "stdout"
        }
      ]
    },
    {
      "cell_type": "code",
      "metadata": {
        "id": "HPqlWfOP4end",
        "colab_type": "code",
        "outputId": "1b0c830b-016e-4a3a-cd76-71515926d907",
        "colab": {
          "base_uri": "https://localhost:8080/",
          "height": 85
        }
      },
      "source": [
        "# data types\n",
        "a = 3\n",
        "b = \"This is a string/text\"\n",
        "c = 4.5\n",
        "\n",
        "total = a+c\n",
        "diff = a-c\n",
        "multiplication = a*c\n",
        "division = a/c\n",
        "\n",
        "print(\"total\")\n",
        "print(diff)\n",
        "print(multiplication)\n",
        "print(division)"
      ],
      "execution_count": 0,
      "outputs": [
        {
          "output_type": "stream",
          "text": [
            "total\n",
            "-1.5\n",
            "13.5\n",
            "0.6666666666666666\n"
          ],
          "name": "stdout"
        }
      ]
    },
    {
      "cell_type": "code",
      "metadata": {
        "id": "CvvcC1kD5QOk",
        "colab_type": "code",
        "outputId": "5e7f5826-b19e-408d-e401-9b2199266939",
        "colab": {
          "base_uri": "https://localhost:8080/",
          "height": 34
        }
      },
      "source": [
        "#appending texts\n",
        "hello_text = \"hello\" #string\n",
        "age = 33 #int\n",
        "print (hello_text + \" there, my age is: {}\".format(age)) "
      ],
      "execution_count": 0,
      "outputs": [
        {
          "output_type": "stream",
          "text": [
            "hello there, my age is: 33\n"
          ],
          "name": "stdout"
        }
      ]
    },
    {
      "cell_type": "code",
      "metadata": {
        "id": "zic1LdkX55pE",
        "colab_type": "code",
        "outputId": "236ccde7-abcf-4608-da8c-ac2d3394eccf",
        "colab": {
          "base_uri": "https://localhost:8080/",
          "height": 164
        }
      },
      "source": [
        "print (hello_text + \" there, my age is: \" + age)"
      ],
      "execution_count": 0,
      "outputs": [
        {
          "output_type": "error",
          "ename": "TypeError",
          "evalue": "ignored",
          "traceback": [
            "\u001b[0;31m---------------------------------------------------------------------------\u001b[0m",
            "\u001b[0;31mTypeError\u001b[0m                                 Traceback (most recent call last)",
            "\u001b[0;32m<ipython-input-7-1b78d0b783cf>\u001b[0m in \u001b[0;36m<module>\u001b[0;34m()\u001b[0m\n\u001b[0;32m----> 1\u001b[0;31m \u001b[0mprint\u001b[0m \u001b[0;34m(\u001b[0m\u001b[0mhello_text\u001b[0m \u001b[0;34m+\u001b[0m \u001b[0;34m\" there, my age is: \"\u001b[0m \u001b[0;34m+\u001b[0m \u001b[0mage\u001b[0m\u001b[0;34m)\u001b[0m\u001b[0;34m\u001b[0m\u001b[0;34m\u001b[0m\u001b[0m\n\u001b[0m",
            "\u001b[0;31mTypeError\u001b[0m: must be str, not int"
          ]
        }
      ]
    },
    {
      "cell_type": "code",
      "metadata": {
        "id": "iyBjE-8A6PER",
        "colab_type": "code",
        "outputId": "b16fc8f1-29be-4739-fc21-0d3af7ac931c",
        "colab": {
          "base_uri": "https://localhost:8080/",
          "height": 34
        }
      },
      "source": [
        "print (\"it is {} degree celcius today\".format(age))"
      ],
      "execution_count": 0,
      "outputs": [
        {
          "output_type": "stream",
          "text": [
            "it is 33 degree celcius today\n"
          ],
          "name": "stdout"
        }
      ]
    },
    {
      "cell_type": "code",
      "metadata": {
        "id": "cokPLrPi64mZ",
        "colab_type": "code",
        "colab": {}
      },
      "source": [
        "#indexing of collection or iterators\n",
        "my_sentence = \"Today is a good day to learn Python Programming\""
      ],
      "execution_count": 0,
      "outputs": []
    },
    {
      "cell_type": "code",
      "metadata": {
        "id": "t-w0D7Gu7ZND",
        "colab_type": "code",
        "outputId": "04ca1ed2-a060-4c66-bf14-228d7a945cb4",
        "colab": {
          "base_uri": "https://localhost:8080/",
          "height": 34
        }
      },
      "source": [
        "#grab the word Today from my_sentence\n",
        "my_sentence[0:5]"
      ],
      "execution_count": 0,
      "outputs": [
        {
          "output_type": "execute_result",
          "data": {
            "text/plain": [
              "'Today'"
            ]
          },
          "metadata": {
            "tags": []
          },
          "execution_count": 11
        }
      ]
    },
    {
      "cell_type": "code",
      "metadata": {
        "id": "RCfrH0NC7l7s",
        "colab_type": "code",
        "outputId": "7fc26e8a-db7f-434d-a5aa-7eab5f656b77",
        "colab": {
          "base_uri": "https://localhost:8080/",
          "height": 34
        }
      },
      "source": [
        "my_sentence[-1]"
      ],
      "execution_count": 0,
      "outputs": [
        {
          "output_type": "execute_result",
          "data": {
            "text/plain": [
              "'g'"
            ]
          },
          "metadata": {
            "tags": []
          },
          "execution_count": 12
        }
      ]
    },
    {
      "cell_type": "code",
      "metadata": {
        "id": "ITcmxHGj85je",
        "colab_type": "code",
        "outputId": "01df2b62-0460-422c-e91f-133849751027",
        "colab": {
          "base_uri": "https://localhost:8080/",
          "height": 34
        }
      },
      "source": [
        "my_sentence"
      ],
      "execution_count": 0,
      "outputs": [
        {
          "output_type": "execute_result",
          "data": {
            "text/plain": [
              "'Today is a good day to learn Python Programming'"
            ]
          },
          "metadata": {
            "tags": []
          },
          "execution_count": 15
        }
      ]
    },
    {
      "cell_type": "code",
      "metadata": {
        "id": "K9GRdVp07165",
        "colab_type": "code",
        "outputId": "0301c27d-dcd6-4485-a288-e39a899545be",
        "colab": {
          "base_uri": "https://localhost:8080/",
          "height": 34
        }
      },
      "source": [
        "my_sentence[0:-1:2]"
      ],
      "execution_count": 0,
      "outputs": [
        {
          "output_type": "execute_result",
          "data": {
            "text/plain": [
              "'Tdyi  oddyt er yhnPormi'"
            ]
          },
          "metadata": {
            "tags": []
          },
          "execution_count": 13
        }
      ]
    },
    {
      "cell_type": "code",
      "metadata": {
        "id": "cwce_uP-8CVJ",
        "colab_type": "code",
        "outputId": "71214c9a-bd49-4f50-a69b-48163d6e8088",
        "colab": {
          "base_uri": "https://localhost:8080/",
          "height": 34
        }
      },
      "source": [
        "my_sentence[::-1]"
      ],
      "execution_count": 0,
      "outputs": [
        {
          "output_type": "execute_result",
          "data": {
            "text/plain": [
              "'gnimmargorP nohtyP nrael ot yad doog a si yadoT'"
            ]
          },
          "metadata": {
            "tags": []
          },
          "execution_count": 14
        }
      ]
    },
    {
      "cell_type": "code",
      "metadata": {
        "id": "CbtydHvO8L90",
        "colab_type": "code",
        "colab": {}
      },
      "source": [
        "#List, dictionary\n",
        "my_List = [1,2,4,5,\"Prem\", 4.56]\n",
        "my_Dictionary = {\"key1\":5, \"key2\": 4.5, \"key3\":my_List}"
      ],
      "execution_count": 0,
      "outputs": []
    },
    {
      "cell_type": "code",
      "metadata": {
        "id": "sGbpdeeA9LVv",
        "colab_type": "code",
        "outputId": "b84b9cab-981f-49ed-94ce-d275f8514e84",
        "colab": {
          "base_uri": "https://localhost:8080/",
          "height": 34
        }
      },
      "source": [
        "my_List[4][0]"
      ],
      "execution_count": 0,
      "outputs": [
        {
          "output_type": "execute_result",
          "data": {
            "text/plain": [
              "'P'"
            ]
          },
          "metadata": {
            "tags": []
          },
          "execution_count": 21
        }
      ]
    },
    {
      "cell_type": "code",
      "metadata": {
        "id": "YtIcE7_99OEp",
        "colab_type": "code",
        "outputId": "fb35ebd7-cacc-49e6-a819-4bf213423f03",
        "colab": {
          "base_uri": "https://localhost:8080/",
          "height": 34
        }
      },
      "source": [
        "my_Dictionary[\"key2\"]"
      ],
      "execution_count": 0,
      "outputs": [
        {
          "output_type": "execute_result",
          "data": {
            "text/plain": [
              "4.5"
            ]
          },
          "metadata": {
            "tags": []
          },
          "execution_count": 22
        }
      ]
    },
    {
      "cell_type": "code",
      "metadata": {
        "id": "3F5hjnj-9sKg",
        "colab_type": "code",
        "colab": {}
      },
      "source": [
        ""
      ],
      "execution_count": 0,
      "outputs": []
    },
    {
      "cell_type": "markdown",
      "metadata": {
        "id": "SivPBkBB9_S_",
        "colab_type": "text"
      },
      "source": [
        "## Conditional Logic"
      ]
    },
    {
      "cell_type": "code",
      "metadata": {
        "id": "OxoGCQAC-CmV",
        "colab_type": "code",
        "outputId": "3dc8b6ed-772a-4847-8281-a03798455df3",
        "colab": {
          "base_uri": "https://localhost:8080/",
          "height": 34
        }
      },
      "source": [
        "#check if a>c\n",
        "\n",
        "if a>c:\n",
        "  print(\"a is more than c\")\n",
        "else:\n",
        "  print(\"c is more than a\")\n"
      ],
      "execution_count": 0,
      "outputs": [
        {
          "output_type": "stream",
          "text": [
            "c is more than a\n"
          ],
          "name": "stdout"
        }
      ]
    },
    {
      "cell_type": "code",
      "metadata": {
        "id": "b-dNjn1V-Jdz",
        "colab_type": "code",
        "outputId": "b99952ca-4208-4165-e22b-8fcf2ff468f0",
        "colab": {
          "base_uri": "https://localhost:8080/",
          "height": 34
        }
      },
      "source": [
        "if a>c:\n",
        "  print(\"a is more than c\")\n",
        "elif c == a:\n",
        "  print(\"c and a are equal\")\n",
        "else:\n",
        "  print(\"c is more than a\")"
      ],
      "execution_count": 0,
      "outputs": [
        {
          "output_type": "stream",
          "text": [
            "c is more than a\n"
          ],
          "name": "stdout"
        }
      ]
    },
    {
      "cell_type": "code",
      "metadata": {
        "id": "JU-2Q6oD_M14",
        "colab_type": "code",
        "colab": {}
      },
      "source": [
        ""
      ],
      "execution_count": 0,
      "outputs": []
    },
    {
      "cell_type": "markdown",
      "metadata": {
        "id": "u2FMmH1N_TuS",
        "colab_type": "text"
      },
      "source": [
        "# Loops"
      ]
    },
    {
      "cell_type": "code",
      "metadata": {
        "id": "amdJXk48_V8S",
        "colab_type": "code",
        "outputId": "0144ef1f-921e-4a1d-bcf0-322b56fc8d7d",
        "colab": {
          "base_uri": "https://localhost:8080/",
          "height": 34
        }
      },
      "source": [
        "my_List"
      ],
      "execution_count": 0,
      "outputs": [
        {
          "output_type": "execute_result",
          "data": {
            "text/plain": [
              "[1, 2, 4, 5, 'Prem', 4.56]"
            ]
          },
          "metadata": {
            "tags": []
          },
          "execution_count": 28
        }
      ]
    },
    {
      "cell_type": "code",
      "metadata": {
        "id": "MOkiWd6j_a3Z",
        "colab_type": "code",
        "outputId": "2096bdd5-1e81-4e7f-ee84-18e9771fe118",
        "colab": {
          "base_uri": "https://localhost:8080/",
          "height": 85
        }
      },
      "source": [
        "for item in my_List:\n",
        "  if type(item) == int:\n",
        "    print(item)"
      ],
      "execution_count": 0,
      "outputs": [
        {
          "output_type": "stream",
          "text": [
            "1\n",
            "2\n",
            "4\n",
            "5\n"
          ],
          "name": "stdout"
        }
      ]
    },
    {
      "cell_type": "code",
      "metadata": {
        "id": "8In_wBdg_k4B",
        "colab_type": "code",
        "outputId": "a5d95985-1ac8-4fb6-be0a-7e81014526b8",
        "colab": {
          "base_uri": "https://localhost:8080/",
          "height": 34
        }
      },
      "source": [
        "for item in my_List:\n",
        "  if type(item) == str:\n",
        "    print(item)"
      ],
      "execution_count": 0,
      "outputs": [
        {
          "output_type": "stream",
          "text": [
            "Prem\n"
          ],
          "name": "stdout"
        }
      ]
    },
    {
      "cell_type": "code",
      "metadata": {
        "id": "KyR2Z9hG_v62",
        "colab_type": "code",
        "outputId": "bed3e9fe-d65d-41e4-aed8-efd916b34aa1",
        "colab": {
          "base_uri": "https://localhost:8080/",
          "height": 85
        }
      },
      "source": [
        "#print out even numbers from my_list\n",
        "for item in my_List:\n",
        "  if type(item) == int:\n",
        "    if item%2 == 0:\n",
        "      print(item)\n",
        "    else:\n",
        "      print(\"not even number\")"
      ],
      "execution_count": 0,
      "outputs": [
        {
          "output_type": "stream",
          "text": [
            "not even number\n",
            "2\n",
            "4\n",
            "not even number\n"
          ],
          "name": "stdout"
        }
      ]
    },
    {
      "cell_type": "code",
      "metadata": {
        "id": "N00og2JsANhb",
        "colab_type": "code",
        "outputId": "8d1ff780-02b9-43bb-d56a-3edd2d2d0aaa",
        "colab": {
          "base_uri": "https://localhost:8080/",
          "height": 51
        }
      },
      "source": [
        "#find the words that start with letter \"t\" from my_sentence\n",
        "for word in my_sentence.lower().split():\n",
        "  if word[0] == 't':\n",
        "    print(word)"
      ],
      "execution_count": 0,
      "outputs": [
        {
          "output_type": "stream",
          "text": [
            "today\n",
            "to\n"
          ],
          "name": "stdout"
        }
      ]
    },
    {
      "cell_type": "code",
      "metadata": {
        "id": "Ak_8SIL8BPF0",
        "colab_type": "code",
        "outputId": "c59ce3c0-50ff-4070-af45-7046d698da6b",
        "colab": {
          "base_uri": "https://localhost:8080/",
          "height": 34
        }
      },
      "source": [
        "my_sentence.split()"
      ],
      "execution_count": 0,
      "outputs": [
        {
          "output_type": "execute_result",
          "data": {
            "text/plain": [
              "['Today', 'is', 'a', 'good', 'day', 'to', 'learn', 'Python', 'Programming']"
            ]
          },
          "metadata": {
            "tags": []
          },
          "execution_count": 33
        }
      ]
    },
    {
      "cell_type": "code",
      "metadata": {
        "id": "HrITt5tmBSDW",
        "colab_type": "code",
        "outputId": "4360a447-da7f-40a1-fc7f-3e560beab9c4",
        "colab": {
          "base_uri": "https://localhost:8080/",
          "height": 442
        }
      },
      "source": [
        "#Challenge question: FizzBuzz.. for a given range, loop through all numbers, print Fizz if divisible by 3, Buzz if / 5 and FizzBuzz if divisible by both 3 and 5\n",
        "\n",
        "for x in range(1,26):\n",
        "  if x%3==0 and x%5==0:\n",
        "    print(\"FizzBuzz\")\n",
        "  elif x%3==0:\n",
        "    print(\"Fizz\")\n",
        "  elif x%5==0:\n",
        "    print(\"Buzz\")\n",
        "  else:\n",
        "    print(x)"
      ],
      "execution_count": 0,
      "outputs": [
        {
          "output_type": "stream",
          "text": [
            "1\n",
            "2\n",
            "Fizz\n",
            "4\n",
            "Buzz\n",
            "Fizz\n",
            "7\n",
            "8\n",
            "Fizz\n",
            "Buzz\n",
            "11\n",
            "Fizz\n",
            "13\n",
            "14\n",
            "FizzBuzz\n",
            "16\n",
            "17\n",
            "Fizz\n",
            "19\n",
            "Buzz\n",
            "Fizz\n",
            "22\n",
            "23\n",
            "Fizz\n",
            "Buzz\n"
          ],
          "name": "stdout"
        }
      ]
    },
    {
      "cell_type": "code",
      "metadata": {
        "id": "IfAvA4rDB-YR",
        "colab_type": "code",
        "outputId": "d79f282a-db34-4f4c-e5d4-def0e2e3b6fd",
        "colab": {
          "base_uri": "https://localhost:8080/",
          "height": 357
        }
      },
      "source": [
        "#while loops.. try to avoid as much\n",
        "\n",
        "x = 0\n",
        "\n",
        "while x<10:\n",
        "  print(\" x is currently: {}\".format(x))\n",
        "  x = x+1\n",
        "  if x==3:\n",
        "    print(\"x has reached 3\")\n",
        "    #break \n",
        "    continue\n",
        "  else:\n",
        "    print(\"done executing\")"
      ],
      "execution_count": 0,
      "outputs": [
        {
          "output_type": "stream",
          "text": [
            " x is currently: 0\n",
            "done executing\n",
            " x is currently: 1\n",
            "done executing\n",
            " x is currently: 2\n",
            "x has reached 3\n",
            " x is currently: 3\n",
            "done executing\n",
            " x is currently: 4\n",
            "done executing\n",
            " x is currently: 5\n",
            "done executing\n",
            " x is currently: 6\n",
            "done executing\n",
            " x is currently: 7\n",
            "done executing\n",
            " x is currently: 8\n",
            "done executing\n",
            " x is currently: 9\n",
            "done executing\n"
          ],
          "name": "stdout"
        }
      ]
    },
    {
      "cell_type": "code",
      "metadata": {
        "id": "wUmit6K3DE5q",
        "colab_type": "code",
        "colab": {}
      },
      "source": [
        "#DONT EVER TO DO THIS TO YOURSELF!\n",
        "\n",
        "while c>a:\n",
        "  print (\"I am going to spoil my machine\")"
      ],
      "execution_count": 0,
      "outputs": []
    },
    {
      "cell_type": "markdown",
      "metadata": {
        "id": "b1mHV_2kElWW",
        "colab_type": "text"
      },
      "source": [
        "# Functions"
      ]
    },
    {
      "cell_type": "code",
      "metadata": {
        "id": "7-IxRJXCEm-B",
        "colab_type": "code",
        "colab": {}
      },
      "source": [
        "# typical syntax of functions\n",
        "# addition function\n",
        "def add_function(par1, par2):\n",
        "  return par1 + par2"
      ],
      "execution_count": 0,
      "outputs": []
    },
    {
      "cell_type": "code",
      "metadata": {
        "id": "qq31d2t1E7n8",
        "colab_type": "code",
        "outputId": "f1fd1a0e-5e7d-421c-e2c7-587251fa3ace",
        "colab": {
          "base_uri": "https://localhost:8080/",
          "height": 34
        }
      },
      "source": [
        "add_function(3.4112,4.31)"
      ],
      "execution_count": 0,
      "outputs": [
        {
          "output_type": "execute_result",
          "data": {
            "text/plain": [
              "7.7212"
            ]
          },
          "metadata": {
            "tags": []
          },
          "execution_count": 42
        }
      ]
    },
    {
      "cell_type": "code",
      "metadata": {
        "id": "rf8Rr8DfFEzF",
        "colab_type": "code",
        "outputId": "6e398565-3fa7-4234-89d5-03c0071393e3",
        "colab": {
          "base_uri": "https://localhost:8080/",
          "height": 34
        }
      },
      "source": [
        "add_function(3,4)"
      ],
      "execution_count": 0,
      "outputs": [
        {
          "output_type": "execute_result",
          "data": {
            "text/plain": [
              "7"
            ]
          },
          "metadata": {
            "tags": []
          },
          "execution_count": 44
        }
      ]
    },
    {
      "cell_type": "code",
      "metadata": {
        "id": "PFk7IPnDFJjc",
        "colab_type": "code",
        "colab": {}
      },
      "source": [
        "# write a function to pass in a string, and return the total number of upper and lower cases\n",
        "def up_low(sentence):\n",
        "  d = {\"upper\": 0, \"lower\":0}\n",
        "  for x in sentence:\n",
        "    if x.isupper():\n",
        "      d[\"upper\"] +=1\n",
        "    elif x.islower():\n",
        "      d[\"lower\"] +=1\n",
        "    else:\n",
        "      pass\n",
        "  \n",
        "  print(\"The original string : \", sentence)\n",
        "  print (\"No of upper case: {}\".format(d[\"upper\"]))\n",
        "  print (\"No of lower case: {}\".format(d[\"lower\"]))"
      ],
      "execution_count": 0,
      "outputs": []
    },
    {
      "cell_type": "code",
      "metadata": {
        "id": "vOwbLgs_GPx9",
        "colab_type": "code",
        "outputId": "a747a08d-08a7-45e8-baf6-2c55a8cd1b5e",
        "colab": {
          "base_uri": "https://localhost:8080/",
          "height": 68
        }
      },
      "source": [
        "up_low(\"Look guys, I have learnt Python in an hour\")"
      ],
      "execution_count": 0,
      "outputs": [
        {
          "output_type": "stream",
          "text": [
            "The original string :  Look guys, I have learnt Python in an hour\n",
            "No of upper case: 3\n",
            "No of lower case: 30\n"
          ],
          "name": "stdout"
        }
      ]
    },
    {
      "cell_type": "code",
      "metadata": {
        "id": "yONJ-3uXGZSy",
        "colab_type": "code",
        "outputId": "0b7be1c5-4bf8-4fee-fcbd-87706869aaf6",
        "colab": {
          "base_uri": "https://localhost:8080/",
          "height": 34
        }
      },
      "source": [
        "import sys\n",
        "sys.version"
      ],
      "execution_count": 0,
      "outputs": [
        {
          "output_type": "execute_result",
          "data": {
            "text/plain": [
              "'3.6.9 (default, Nov  7 2019, 10:44:02) \\n[GCC 8.3.0]'"
            ]
          },
          "metadata": {
            "tags": []
          },
          "execution_count": 47
        }
      ]
    },
    {
      "cell_type": "code",
      "metadata": {
        "id": "wKZmqbW2G3_l",
        "colab_type": "code",
        "colab": {}
      },
      "source": [
        "import  datetime"
      ],
      "execution_count": 0,
      "outputs": []
    },
    {
      "cell_type": "code",
      "metadata": {
        "id": "l35BNbPeHKXD",
        "colab_type": "code",
        "colab": {}
      },
      "source": [
        ""
      ],
      "execution_count": 0,
      "outputs": []
    }
  ]
}